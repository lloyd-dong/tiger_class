{
 "cells": [
  {
   "cell_type": "markdown",
   "metadata": {},
   "source": [
    "#用蒙特卡洛求PI"
   ]
  },
  {
   "cell_type": "markdown",
   "metadata": {},
   "source": [
    "todo: add plot "
   ]
  },
  {
   "cell_type": "code",
   "execution_count": 97,
   "metadata": {
    "collapsed": false
   },
   "outputs": [
    {
     "name": "stdout",
     "output_type": "stream",
     "text": [
      "圆内点 : 7855013\n",
      "pi= 3.1420052  误差= 0.0004125425\n"
     ]
    }
   ],
   "source": [
    "import random\n",
    "total_number=10000000\n",
    "in_circle =0\n",
    "#生成随机数\n",
    "for i in range(total_number):\n",
    "    x=random.random()\n",
    "    y=random.random()\n",
    "    r2= x**2 + y**2\n",
    "    #print x, y, r2\n",
    "    \n",
    "    #计算圆内点\n",
    "    if 1 > r2:\n",
    "        in_circle = in_circle+1\n",
    "print \"圆内点 :\",in_circle\n",
    "# 计算pi\n",
    "pi = 4.0 * in_circle / total_number \n",
    "print \"pi=\",pi ,\" 误差=\",pi-3.1415926575\n",
    "\n",
    "#todo add plot"
   ]
  },
  {
   "cell_type": "markdown",
   "metadata": {},
   "source": [
    "# 理解 变量, 单双引号与 range"
   ]
  },
  {
   "cell_type": "code",
   "execution_count": 6,
   "metadata": {
    "collapsed": false,
    "scrolled": false
   },
   "outputs": [
    {
     "name": "stdout",
     "output_type": "stream",
     "text": [
      "I'm range（10）=  [0, 1, 2, 3, 4, 5, 6, 7, 8, 9]\n",
      "[2, 3, 4, 5, 6, 7, 8, 9]\n",
      "[2, 5, 8]\n",
      "------------\n",
      "[0, 1, 2, 3, 4, 5, 6, 7, 8, 9]\n",
      "0\n",
      "1\n",
      "2\n",
      "3\n",
      "4\n",
      "5\n",
      "6\n",
      "7\n",
      "8\n",
      "9\n",
      "0\n",
      "1\n",
      "2\n",
      "3\n",
      "4\n",
      "5\n",
      "6\n",
      "7\n",
      "8\n",
      "9\n"
     ]
    }
   ],
   "source": [
    "print \"I'm range（10）= \", range(10)\n",
    "print range(2,10)\n",
    "print range(2,10,3)\n",
    "print '------------'\n",
    "a=range(10)\n",
    "print a\n",
    "\n",
    "for i in a:\n",
    "    print i\n",
    "\n",
    "for i in range(10):\n",
    "    print i"
   ]
  },
  {
   "cell_type": "markdown",
   "metadata": {},
   "source": [
    "# 理解累加器"
   ]
  },
  {
   "cell_type": "markdown",
   "metadata": {},
   "source": [
    "1.求 1-1000 中所有奇数的和，\n",
    "2.求 1-1000 中所有7的倍数的和"
   ]
  },
  {
   "cell_type": "code",
   "execution_count": 17,
   "metadata": {
    "collapsed": false
   },
   "outputs": [
    {
     "name": "stdout",
     "output_type": "stream",
     "text": [
      "250000\n"
     ]
    }
   ],
   "source": [
    "large=1000\n",
    "sum=0\n",
    "for i in range(1,large):\n",
    "    if i % 2 ==1:\n",
    "        sum=sum+i\n",
    "print sum       "
   ]
  },
  {
   "cell_type": "code",
   "execution_count": 19,
   "metadata": {
    "collapsed": false
   },
   "outputs": [
    {
     "name": "stdout",
     "output_type": "stream",
     "text": [
      "250000\n"
     ]
    }
   ],
   "source": [
    "large=1000\n",
    "sum=0\n",
    "for i in range(1,large,2):\n",
    "    sum += i\n",
    "print sum"
   ]
  },
  {
   "cell_type": "markdown",
   "metadata": {},
   "source": [
    "#练习"
   ]
  },
  {
   "cell_type": "code",
   "execution_count": 24,
   "metadata": {
    "collapsed": false
   },
   "outputs": [
    {
     "name": "stdout",
     "output_type": "stream",
     "text": [
      "[0, 7, 14, 21, 28, 35]\n"
     ]
    }
   ],
   "source": [
    "print range(0,40,7)\n"
   ]
  }
 ],
 "metadata": {
  "kernelspec": {
   "display_name": "Python 2",
   "language": "python",
   "name": "python2"
  },
  "language_info": {
   "codemirror_mode": {
    "name": "ipython",
    "version": 2
   },
   "file_extension": ".py",
   "mimetype": "text/x-python",
   "name": "python",
   "nbconvert_exporter": "python",
   "pygments_lexer": "ipython2",
   "version": "2.7.9"
  }
 },
 "nbformat": 4,
 "nbformat_minor": 0
}
